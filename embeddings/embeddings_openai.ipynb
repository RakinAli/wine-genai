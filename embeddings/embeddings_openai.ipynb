{
 "cells": [
  {
   "cell_type": "markdown",
   "id": "1cab3ec4",
   "metadata": {},
   "source": [
    "Notebook to generate embeddings from red wine product information from Systembolaget in Swedish"
   ]
  },
  {
   "cell_type": "code",
   "execution_count": 22,
   "id": "6c768159",
   "metadata": {},
   "outputs": [],
   "source": [
    "import re\n",
    "import os\n",
    "import pandas as pd\n",
    "import tiktoken\n",
    "import openai\n",
    "from openai.embeddings_utils import get_embedding"
   ]
  },
  {
   "cell_type": "code",
   "execution_count": 23,
   "id": "7283f018",
   "metadata": {},
   "outputs": [],
   "source": [
    "# embedding model parameters\n",
    "embedding_model = \"text-embedding-ada-002\"\n",
    "embedding_encoding = \"cl100k_base\"  # this the encoding for text-embedding-ada-002\n",
    "max_tokens = 8000  # the maximum for text-embedding-ada-002 is 8191"
   ]
  },
  {
   "cell_type": "code",
   "execution_count": 24,
   "id": "99a6472b",
   "metadata": {},
   "outputs": [
    {
     "name": "stdout",
     "output_type": "stream",
     "text": [
      "Land: Italien; Druvor: Primitivo, Malvasía, Negroamaro; Smak: Kryddigt & Mustigt. Kryddig smak med fatkaraktär, inslag av mörka körsbär, choklad, romrussin, peppar och vanilj.; Servering: Serveras till rätter av lamm- eller nötkött, gärna grillat.; Fruktsyra: 9 (0-12); Fyllighet: 9 (0-12); Strävhet: 8 (0-12)\n"
     ]
    }
   ],
   "source": [
    "# load data, come cleanign and create combined row\n",
    "input_datapath = \"red_wines_filtered.csv\"\n",
    "df = pd.read_csv(input_datapath, header=0)\n",
    "\n",
    "df.fillna(\"\", inplace=True)\n",
    "df['fruitacid'] = df['fruitacid'].astype(str)\n",
    "df['body'] = df['body'].astype(str)\n",
    "df['roughness'] = df['roughness'].astype(str)\n",
    "\n",
    "# removing 'Serveras vid xx-yy C'\n",
    "pattern = r\"\\svid\\s[0-9]{1,2}-[0-9]{1,2}°C\"\n",
    "df['usage'] = df['usage'].apply(lambda s: re.sub(pattern, '', s))\n",
    "\n",
    "df[\"combined\"] = (\n",
    "    \"Land: \" + df.country.str.strip() + \\\n",
    "    \"; Druvor: \" + df.grapes.str.strip() + \\\n",
    "    \"; Smak: \" + df.category.str.strip() + \". \" + df.taste.str.strip() + \\\n",
    "    \"; Servering: \" + df.usage.str.strip() + \\\n",
    "    \"; Fruktsyra: \" + df.fruitacid.str.strip() + \" (0-12)\" + \\\n",
    "    \"; Fyllighet: \" + df.body.str.strip() + \" (0-12)\" + \\\n",
    "    \"; Strävhet: \" + df.roughness.str.strip() + \" (0-12)\"\n",
    ")\n",
    "\n",
    "print(df[\"combined\"][0])"
   ]
  },
  {
   "cell_type": "code",
   "execution_count": 25,
   "id": "5ea24c7f",
   "metadata": {},
   "outputs": [
    {
     "name": "stdout",
     "output_type": "stream",
     "text": [
      "21278\n"
     ]
    }
   ],
   "source": [
    "# calculate tokens tiktoken\n",
    "encoding = tiktoken.get_encoding(embedding_encoding)\n",
    "df[\"n_tokens\"] = df.combined.apply(lambda x: len(encoding.encode(x)))\n",
    "print(df[\"n_tokens\"].sum())"
   ]
  },
  {
   "cell_type": "raw",
   "id": "fbc1df80",
   "metadata": {},
   "source": [
    "# get openAI embeddings\n",
    "%load_ext dotenv\n",
    "%dotenv\n",
    "\n",
    "openai.api_key = os.environ.get('OPENAI_API_KEY')\n",
    "df[\"embedding\"] = df.combined.apply(lambda x: get_embedding(x, engine=embedding_model))\n",
    "df.to_csv(\"red_wines_filtered_with_embeddings.csv\")"
   ]
  },
  {
   "cell_type": "code",
   "execution_count": 51,
   "id": "a432b150",
   "metadata": {},
   "outputs": [
    {
     "name": "stdout",
     "output_type": "stream",
     "text": [
      "Land: Italien; Druvor: Primitivo, Malvasía, Negroamaro; Smak: Kryddigt & Mustigt. Kryddig smak med fatkaraktär, inslag av mörka körsbär, choklad, romrussin, peppar och vanilj.; Servering: Serveras till rätter av lamm- eller nötkött, gärna grillat.; Fruktsyra: 9 (0-12); Fyllighet: 9 (0-12); Strävhet: 8 (0-12)\n",
      "\n",
      "5 MOST SIMILAR\n",
      "Land: Italien; Druvor: Primitivo; Smak: Kryddigt & Mustigt. Kryddigt, smakrikt vin med liten sötma, inslag av fat, romrussin, choklad, vanilj, mörka körsbär, plommon och nötter.; Servering: Serveras till rätter av lamm- eller nötkött.; Fruktsyra: 9 (0-12); Fyllighet: 9 (0-12); Strävhet: 8 (0-12)\n",
      "\n",
      "Land: Italien; Druvor: Primitivo; Smak: Fruktigt & Smakrikt. Generöst fruktig smak med fatkaraktär och liten sötma, inslag av mörka körsbär, choklad, russin, kaffe, sötlakrits och vanilj.; Servering: Serveras till grillade rätter av lamm- eller nötkött, eller till lagrade hårdostar.; Fruktsyra: 8 (0-12); Fyllighet: 7 (0-12); Strävhet: 6 (0-12)\n",
      "\n",
      "Land: Italien; Druvor: Primitivo; Smak: Kryddigt & Mustigt. Kryddig, fruktig smak med inslag av mörka körsbär, kryddnejlika, russin, plommon och kanel.; Servering: Serveras till rätter av lamm- eller nötkött, eller till smakrika vegetariska rätter.; Fruktsyra: 9 (0-12); Fyllighet: 9 (0-12); Strävhet: 8 (0-12)\n",
      "\n",
      "Land: Italien; Druvor: Sangiovese, Merlot; Smak: Kryddigt & Mustigt. Kryddig, nyanserad smak med fatkaraktär, inslag av mörka körsbär, kryddnejlika, choklad, plommon och lakrits.; Servering: Serveras till rätter av lamm- och nötkött.; Fruktsyra: 9 (0-12); Fyllighet: 8 (0-12); Strävhet: 8 (0-12)\n",
      "\n",
      "Land: Italien; Druvor: Merlot, Sangiovese; Smak: Kryddigt & Mustigt. Kryddig, något utvecklad smak med fatkaraktär, inslag av torkade körsbär, ceder, korinter, kanel, vanilj och pomerans.; Servering: Serveras till rätter av lamm- och nötkött.; Fruktsyra: 10 (0-12); Fyllighet: 8 (0-12); Strävhet: 8 (0-12)\n",
      "\n"
     ]
    },
    {
     "name": "stderr",
     "output_type": "stream",
     "text": [
      "/var/folders/_h/k54qpypj7ds3ds3v29bxr6mm0000gn/T/ipykernel_57198/4217679176.py:17: SettingWithCopyWarning: \n",
      "A value is trying to be set on a copy of a slice from a DataFrame.\n",
      "Try using .loc[row_indexer,col_indexer] = value instead\n",
      "\n",
      "See the caveats in the documentation: https://pandas.pydata.org/pandas-docs/stable/user_guide/indexing.html#returning-a-view-versus-a-copy\n",
      "  df_hold_out_first[\"similarity\"] = df_hold_out_first.embedding.apply(lambda x: cosine_similarity(x, first_row_embedding))\n"
     ]
    }
   ],
   "source": [
    "# test embeddings with cosine similarity\n",
    "import numpy as np\n",
    "from openai.embeddings_utils import cosine_similarity\n",
    "\n",
    "datafile_path = \"red_wines_filtered_with_embeddings.csv\"\n",
    "df_with_embeddings = pd.read_csv(datafile_path)\n",
    "df_with_embeddings[\"embedding\"] = df_with_embeddings.embedding.apply(eval).apply(np.array)\n",
    "\n",
    "# use first row as test case\n",
    "first_row = df_with_embeddings.iloc[0]\n",
    "first_row_embedding = first_row.embedding\n",
    "\n",
    "\n",
    "# every row except first\n",
    "df_hold_out_first = df_with_embeddings.tail(-1)\n",
    "\n",
    "df_hold_out_first[\"similarity\"] = df_hold_out_first.embedding.apply(lambda x: cosine_similarity(x, first_row_embedding))\n",
    "\n",
    "results = (\n",
    "        df_hold_out_first.sort_values(\"similarity\", ascending=False)\n",
    "        .head(5)[\"combined\"])"
   ]
  },
  {
   "cell_type": "code",
   "execution_count": null,
   "id": "04841dee",
   "metadata": {},
   "outputs": [],
   "source": []
  }
 ],
 "metadata": {
  "kernelspec": {
   "display_name": "Python 3 (ipykernel)",
   "language": "python",
   "name": "python3"
  },
  "language_info": {
   "codemirror_mode": {
    "name": "ipython",
    "version": 3
   },
   "file_extension": ".py",
   "mimetype": "text/x-python",
   "name": "python",
   "nbconvert_exporter": "python",
   "pygments_lexer": "ipython3",
   "version": "3.9.6"
  }
 },
 "nbformat": 4,
 "nbformat_minor": 5
}
